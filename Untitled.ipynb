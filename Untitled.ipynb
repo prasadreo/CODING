{
 "cells": [
  {
   "cell_type": "code",
   "execution_count": 3,
   "id": "59e7ea2e-79df-4721-a71b-ceaf26a1d018",
   "metadata": {},
   "outputs": [],
   "source": [
    "#AGE CALCULATOR"
   ]
  },
  {
   "cell_type": "code",
   "execution_count": null,
   "id": "301c898a-22f1-4a98-9c4c-57571eb99dfc",
   "metadata": {},
   "outputs": [],
   "source": [
    "from datetime import datetime\n",
    "\n",
    "def calculate_age(birth_date):\n",
    "    today = datetime.today()\n",
    "    age = today.year - birth_date.year - ((today.month, today.day) < (birth_date.month, birth_date.day))\n",
    "    return age\n",
    "\n",
    "dob_str = input(\"Enter your date of birth (YYYY-MM-DD): \")\n",
    "\n",
    "try:\n",
    "    dob = datetime.strptime(dob_str, \"%Y-%m-%d\")\n",
    "    print(f\"Your age is: {calculate_age(dob)} years\")\n",
    "except ValueError:\n",
    "    print(\"Invalid date format. Please use YYYY-MM-DD.\")"
   ]
  },
  {
   "cell_type": "code",
   "execution_count": null,
   "id": "f3c5cb65-b11c-4876-8049-bf94880c3695",
   "metadata": {},
   "outputs": [],
   "source": [
    "# CALENDER"
   ]
  },
  {
   "cell_type": "code",
   "execution_count": null,
   "id": "b6087261-84b9-4638-bdf9-a3d95b726eb6",
   "metadata": {},
   "outputs": [],
   "source": [
    "import calendar\n",
    "year=int(input(\"enter the year\"))\n",
    "month=int(input(\"enter the month\"))\n",
    "cal=calendar.month(year, month)\n",
    "print(cal)"
   ]
  }
 ],
 "metadata": {
  "kernelspec": {
   "display_name": "Python [conda env:base] *",
   "language": "python",
   "name": "conda-base-py"
  },
  "language_info": {
   "codemirror_mode": {
    "name": "ipython",
    "version": 3
   },
   "file_extension": ".py",
   "mimetype": "text/x-python",
   "name": "python",
   "nbconvert_exporter": "python",
   "pygments_lexer": "ipython3",
   "version": "3.12.7"
  }
 },
 "nbformat": 4,
 "nbformat_minor": 5
}
